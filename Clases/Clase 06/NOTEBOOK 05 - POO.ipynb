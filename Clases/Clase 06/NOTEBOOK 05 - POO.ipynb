{
 "cells": [
  {
   "cell_type": "markdown",
   "metadata": {},
   "source": [
    "# 📌 Programación Orientada a Objetos(POO) en Python\n",
    "## Autor: Andrés Mena Abarca\n",
    "### Fecha: 2025/02/06\n",
    "\n",
    "## 1. Introducción a la POO\n",
    "- ¿Qué es la POO?\n",
    "- Características principales\n",
    "- Comparación con la programación estructurada\n",
    "\n",
    "## 2. Conceptos Claves de la POO\n",
    "- Clases y Objetos\n",
    "- Atributos y Métodos\n",
    "- Encapsulamiento\n",
    "- Herencia\n",
    "- Polimorfismo\n",
    "\n",
    "## 3. Ejemplos Prácticos de cada Concepto\n",
    "- Definir una clase simple\n",
    "- Crear y manipular objetos\n",
    "- Aplicar herencia y polimorfismo\n",
    "\n",
    "## 4. Desarrollo de un Proyecto Aplicado\n",
    "- Descripción del proyecto\n",
    "- Implementación paso a paso\n",
    "\n",
    "---\n",
    "\n",
    "## 🟢 1. Introducción a la POO\n",
    "La **Programación Orientada a Objetos (POO)** es un paradigma de programación basado en la idea de modelar entidades del mundo real a través de **objetos**.\n",
    "\n",
    "### ✅ Características clave de la POO:\n",
    "- **Abstracción:** Modela objetos del mundo real en código.\n",
    "- **Encapsulamiento:** Protege los datos y métodos dentro de una clase.\n",
    "- **Herencia:** Permite reutilizar código mediante la relación padre-hijo.\n",
    "- **Polimorfismo:** Usa el mismo método con diferentes implementaciones.\n",
    "\n",
    "### 📌 Diferencia entre programación estructurada y POO:\n",
    "\n",
    "| Característica       | Programación Estructurada | Programación Orientada a Objetos |\n",
    "|---------------------|------------------------|--------------------------------|\n",
    "| **Organización**   | Basada en funciones    | Basada en clases y objetos    |\n",
    "| **Reutilización**  | Baja                   | Alta                          |\n",
    "| **Mantenimiento**  | Más complejo           | Más modular y escalable      |\n",
    "\n",
    "\n",
    "## 🟡 2. Conceptos Claves de la POO en Python\n",
    "### 📌 Clases y Objetos\n",
    "En Python, una clase es un *modelo* que define la estructura y comportamiento de un objeto. Un objeto es una instancia de una clase."
   ]
  },
  {
   "cell_type": "code",
   "execution_count": 13,
   "metadata": {},
   "outputs": [
    {
     "name": "stdout",
     "output_type": "stream",
     "text": [
      "El objetos 2827563626528 tiene el atributo nombre como Emmanuel Alfaro\n",
      "El objetos 2827559784896 tiene el atributo nombre como Mariana Villalobos\n",
      "El objetos 2827564086576 tiene el atributo nombre como Andrés Mena\n",
      "Hola, mi nombre es Emmanuel Alfaro y tengo 28 años\n",
      "Matematicas Historia Biologia\n",
      "\n",
      "Este objeto Andrés Mena  no puede saludar, porque esta declarado como Inactivo\n"
     ]
    }
   ],
   "source": [
    "#Como crear una clase\n",
    "class Persona:\n",
    "    def __init__(self,nombre,age):\n",
    "        self.nombre = nombre\n",
    "        self.edad = age\n",
    "        self.activo = True\n",
    "        self.materias = []\n",
    "\n",
    "    def saludar(self): #Método\n",
    "        if self.activo:\n",
    "            print(f'Hola, mi nombre es {self.nombre} y tengo {self.edad} años')\n",
    "        else:\n",
    "            print(f'Este objeto {self.nombre}  no puede saludar, porque esta declarado como Inactivo')\n",
    "    def imprimir_materias(self):\n",
    "        print(*self.materias) \n",
    "    \n",
    "estudiante = Persona('Emmanuel Alfaro',28)\n",
    "estudiante2 = Persona('Mariana Villalobos', 25)\n",
    "profesor = Persona('Andrés Mena',33)\n",
    "\n",
    "\n",
    "\n",
    "print (f'El objetos {id(estudiante)} tiene el atributo nombre como {estudiante.nombre}')\n",
    "print (f'El objetos {id(estudiante2)} tiene el atributo nombre como {estudiante2.nombre}')\n",
    "print (f'El objetos {id(profesor)} tiene el atributo nombre como {profesor.nombre}')\n",
    "\n",
    "#Llamada a un método de la clase\n",
    "estudiante.saludar()\n",
    "estudiante.materias = ['Matematicas','Historia','Biologia']\n",
    "estudiante.imprimir_materias()\n",
    "\n",
    "\n",
    "profesor.activo = False\n",
    "profesor.imprimir_materias()\n",
    "profesor.saludar()"
   ]
  },
  {
   "cell_type": "code",
   "execution_count": 4,
   "metadata": {},
   "outputs": [
    {
     "name": "stdout",
     "output_type": "stream",
     "text": [
      "El objetos 2827560909232 tiene el atributo nombre como Emmanuel\n",
      "El objetos 2827527703584 tiene el atributo nombre como Mariana\n",
      "El objetos 2827559498624 tiene el atributo nombre como Andrés\n"
     ]
    }
   ],
   "source": [
    "class Persona:\n",
    "    def __init__(self):\n",
    "        self.nombre = input('Ingrese su nombre Porfavor: ')\n",
    "        self.edad = int(input('Ingrese su edad: '))\n",
    "\n",
    "estudiante = Persona()\n",
    "estudiante2 = Persona()\n",
    "profesor = Persona()\n",
    "\n",
    "print (f'El objetos {id(estudiante)} tiene el atributo nombre como {estudiante.nombre}')\n",
    "print (f'El objetos {id(estudiante2)} tiene el atributo nombre como {estudiante2.nombre}')\n",
    "print (f'El objetos {id(profesor)} tiene el atributo nombre como {profesor.nombre}')"
   ]
  },
  {
   "cell_type": "markdown",
   "metadata": {},
   "source": [
    "### 📌 Atributos y Métodos\n",
    "Los atributos representan las propiedades de un objeto, y los métodos son las funciones que definen su comportamiento."
   ]
  },
  {
   "cell_type": "code",
   "execution_count": 22,
   "metadata": {},
   "outputs": [
    {
     "name": "stdout",
     "output_type": "stream",
     "text": [
      "\n",
      "El carro matricúla 123ASD, marca Mitsubichi Lancer\n",
      "---- REPORTE DE FALLAS----\n",
      "Gotea aceite en el motor\n",
      "\n",
      "El carro matricúla QWERTY, marca Toyota Hilux\n",
      "---- REPORTE DE FALLAS----\n"
     ]
    }
   ],
   "source": [
    "#Crear una clase\n",
    "class carro:\n",
    "    def __init__(self,num_matricula,modelo,marca):\n",
    "        self.matricula = num_matricula\n",
    "        self.modelo = modelo\n",
    "        self.marca = marca\n",
    "        self.ecendido = True #Estáticos\n",
    "        self.fallas = []\n",
    "        \n",
    "    def reporte_fallas(self):\n",
    "        self.fallas.append(input(\"Ingrese el detalla del reporte de la falla: \"))\n",
    "        \n",
    "    def reporte_estado(self):\n",
    "        print(f'\\nEl carro matricúla {self.matricula}, marca {self.marca}')\n",
    "        print('---- REPORTE DE FALLAS----')\n",
    "        for elemento in self.fallas:\n",
    "            print(elemento)\n",
    "    \n",
    "mi_carro = carro('123ASD',2017,'Mitsubichi Lancer')\n",
    "mi_carro_trabajo = carro('QWERTY',2025,'Toyota Hilux')\n",
    "\n",
    "mi_carro.reporte_fallas()\n",
    "mi_carro.reporte_estado()\n",
    "\n",
    "mi_cochera = [mi_carro,mi_carro_trabajo] \n",
    "\n",
    "mi_carro_trabajo.reporte_estado()\n",
    "#print(mi_carro.marca)\n",
    "#print(mi_carro_trabajo.marca)\n"
   ]
  },
  {
   "cell_type": "markdown",
   "metadata": {},
   "source": [
    "# 📝 Ejercicios POO en Python  \n",
    "\n",
    "## 📌 Ejercicio 1: Calculadora de Descuento  \n",
    "📍 **Objetivo:** Crear una clase que calcule el precio final de un producto aplicando un descuento.  \n",
    "\n",
    "### 🔹 **Instrucciones:**  \n",
    "1. Crear una clase llamada `Producto` con los siguientes atributos:  \n",
    "   - `nombre` (nombre del producto)  \n",
    "   - `precio` (precio original del producto)  \n",
    "   - `descuento` (porcentaje de descuento en decimal, por ejemplo, 0.2 para 20%)  \n",
    "2. Implementar un método llamado `precio_final()` que retorne el precio con el descuento aplicado.  \n",
    "3. Crear un objeto de la clase con un producto de tu elección y mostrar el precio final.  \n",
    "\n",
    "### 🔹 **Ejemplo de uso esperado:**  \n",
    "```python\n",
    "mi_producto = Producto(\"Zapatos\", 50.0, 0.15) \n",
    "print(f\"El precio final de {mi_producto.nombre} es: ${mi_producto.precio_final()}\")\n",
    "\n"
   ]
  },
  {
   "cell_type": "code",
   "execution_count": null,
   "metadata": {},
   "outputs": [],
   "source": []
  },
  {
   "cell_type": "markdown",
   "metadata": {},
   "source": [
    "## 📌 Ejercicio 2: Registro de Estudiantes  \n",
    "📍 **Objetivo:** Crear una clase para almacenar información de estudiantes y mostrar sus datos.  \n",
    "\n",
    "### 🔹 Instrucciones:  \n",
    "\n",
    "1. Crear una clase llamada `Estudiante` con los siguientes atributos:  \n",
    "   - `nombre`  \n",
    "   - `edad`  \n",
    "   - `grado`  \n",
    "\n",
    "2. Implementar un método llamado `mostrar_info()` que imprima la información del estudiante en un formato legible.  \n",
    "\n",
    "3. Crear **dos instancias** de la clase `Estudiante` y llamar al método `mostrar_info()` en cada una.  \n",
    "\n",
    "\n"
   ]
  },
  {
   "cell_type": "code",
   "execution_count": null,
   "metadata": {},
   "outputs": [],
   "source": []
  }
 ],
 "metadata": {
  "kernelspec": {
   "display_name": "Python 3",
   "language": "python",
   "name": "python3"
  },
  "language_info": {
   "codemirror_mode": {
    "name": "ipython",
    "version": 3
   },
   "file_extension": ".py",
   "mimetype": "text/x-python",
   "name": "python",
   "nbconvert_exporter": "python",
   "pygments_lexer": "ipython3",
   "version": "3.12.7"
  }
 },
 "nbformat": 4,
 "nbformat_minor": 2
}
