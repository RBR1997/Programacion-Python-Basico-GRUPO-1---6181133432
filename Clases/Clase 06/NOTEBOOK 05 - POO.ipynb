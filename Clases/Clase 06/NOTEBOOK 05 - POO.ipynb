{
 "cells": [
  {
   "cell_type": "markdown",
   "metadata": {},
   "source": [
    "# 📌 Programación Orientada a Objetos(POO) en Python\n",
    "## Autor: Andrés Mena Abarca\n",
    "### Fecha: 2025/02/06\n",
    "\n",
    "## 1. Introducción a la POO\n",
    "- ¿Qué es la POO?\n",
    "- Características principales\n",
    "- Comparación con la programación estructurada\n",
    "\n",
    "## 2. Conceptos Claves de la POO\n",
    "- Clases y Objetos\n",
    "- Atributos y Métodos\n",
    "- Encapsulamiento\n",
    "- Herencia\n",
    "- Polimorfismo\n",
    "\n",
    "## 3. Ejemplos Prácticos de cada Concepto\n",
    "- Definir una clase simple\n",
    "- Crear y manipular objetos\n",
    "- Aplicar herencia y polimorfismo\n",
    "\n",
    "## 4. Desarrollo de un Proyecto Aplicado\n",
    "- Descripción del proyecto\n",
    "- Implementación paso a paso\n",
    "\n",
    "---\n",
    "\n",
    "## 🟢 1. Introducción a la POO\n",
    "La **Programación Orientada a Objetos (POO)** es un paradigma de programación basado en la idea de modelar entidades del mundo real a través de **objetos**.\n",
    "\n",
    "### ✅ Características clave de la POO:\n",
    "- **Abstracción:** Modela objetos del mundo real en código.\n",
    "- **Encapsulamiento:** Protege los datos y métodos dentro de una clase.\n",
    "- **Herencia:** Permite reutilizar código mediante la relación padre-hijo.\n",
    "- **Polimorfismo:** Usa el mismo método con diferentes implementaciones.\n",
    "\n",
    "### 📌 Diferencia entre programación estructurada y POO:\n",
    "\n",
    "| Característica       | Programación Estructurada | Programación Orientada a Objetos |\n",
    "|---------------------|------------------------|--------------------------------|\n",
    "| **Organización**   | Basada en funciones    | Basada en clases y objetos    |\n",
    "| **Reutilización**  | Baja                   | Alta                          |\n",
    "| **Mantenimiento**  | Más complejo           | Más modular y escalable      |\n",
    "\n",
    "\n",
    "## 🟡 2. Conceptos Claves de la POO en Python\n",
    "### 📌 Clases y Objetos\n",
    "En Python, una clase es un *modelo* que define la estructura y comportamiento de un objeto. Un objeto es una instancia de una clase."
   ]
  },
  {
   "cell_type": "code",
   "execution_count": 2,
   "metadata": {},
   "outputs": [
    {
     "name": "stdout",
     "output_type": "stream",
     "text": [
      "Andres\n"
     ]
    }
   ],
   "source": [
    "#Como crear una clase\n",
    "class Persona:\n",
    "    def __init__(self):\n",
    "        self.nombre = 'Andres'\n",
    "        self.edad = 33\n",
    "\n",
    "estudiante = Persona()\n",
    "\n",
    "print (estudiante.nombre)\n"
   ]
  }
 ],
 "metadata": {
  "kernelspec": {
   "display_name": "Python 3",
   "language": "python",
   "name": "python3"
  },
  "language_info": {
   "codemirror_mode": {
    "name": "ipython",
    "version": 3
   },
   "file_extension": ".py",
   "mimetype": "text/x-python",
   "name": "python",
   "nbconvert_exporter": "python",
   "pygments_lexer": "ipython3",
   "version": "3.12.7"
  }
 },
 "nbformat": 4,
 "nbformat_minor": 2
}
